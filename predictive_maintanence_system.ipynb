{
 "cells": [
  {
   "cell_type": "code",
   "execution_count": 1,
   "id": "2be42055-9373-4431-82f2-ee1bf696e5fc",
   "metadata": {},
   "outputs": [
    {
     "name": "stdout",
     "output_type": "stream",
     "text": [
      "Sample machine_data.csv file created!\n"
     ]
    }
   ],
   "source": [
    "import pandas as pd\n",
    "import numpy as np\n",
    "np.random.seed(42)\n",
    "data = {\n",
    "    'temperature': np.random.normal(70, 10, 1000),\n",
    "    'vibration': np.random.normal(0.5, 0.1, 1000),\n",
    "    'usage_hours': np.random.randint(0, 1000, 1000),\n",
    "    'failure': np.random.choice([0, 1], 1000, p=[0.95, 0.05])\n",
    "    }\n",
    "df = pd.DataFrame(data)\n",
    "df.to_csv('machine_data.csv', index=False)\n",
    "print(\"Sample machine_data.csv file created!\")\n"
   ]
  },
  {
   "cell_type": "code",
   "execution_count": 5,
   "id": "beb9d66d-3229-43d8-bb5f-3c88942e3a5d",
   "metadata": {},
   "outputs": [
    {
     "name": "stdout",
     "output_type": "stream",
     "text": [
      "Accuracy: 0.965\n",
      "Precision: 0.0\n",
      "Recall: 0.0\n",
      "F1 Score: 0.0\n"
     ]
    }
   ],
   "source": [
    "import pandas as pd\n",
    "from sklearn.ensemble import RandomForestClassifier\n",
    "from sklearn.model_selection import train_test_split\n",
    "from sklearn.metrics import accuracy_score, precision_score, recall_score, f1_score\n",
    "data = pd.read_csv('machine_data.csv')                       # Load data\n",
    "data['temp_rolling_avg'] = data['temperature'].rolling(window=5).mean()# Feature engineering\n",
    "data['vibration_rate_of_change'] = data['vibration'].diff()\n",
    "data.dropna(inplace=True)                     # Drop rows with NaN values created by rolling window\n",
    "features = ['temp_rolling_avg', 'vibration_rate_of_change', 'usage_hours']               # Define features and target\n",
    "X = data[features]\n",
    "y = data['failure']\n",
    "X_train, X_test, y_train, y_test = train_test_split(X, y, test_size=0.2, random_state=42) # Split data into training and testing sets\n",
    "model = RandomForestClassifier(n_estimators=100, random_state=42)             # Train model\n",
    "model.fit(X_train, y_train)\n",
    "y_pred = model.predict(X_test)              # Make predictions\n",
    "accuracy = accuracy_score(y_test, y_pred)          # Evaluate model\n",
    "precision = precision_score(y_test, y_pred)\n",
    "recall = recall_score(y_test, y_pred)\n",
    "f1 = f1_score(y_test, y_pred)\n",
    "print(f'Accuracy: {accuracy}')\n",
    "print(f'Precision: {precision}')\n",
    "print(f'Recall: {recall}')\n",
    "print(f'F1 Score: {f1}')\n"
   ]
  },
  {
   "cell_type": "code",
   "execution_count": null,
   "id": "0529158d-03d4-49da-bdbb-6b7751a06d14",
   "metadata": {},
   "outputs": [],
   "source": [
    "\n"
   ]
  },
  {
   "cell_type": "code",
   "execution_count": null,
   "id": "12907ae0-0785-4222-8f11-21a4d2eaf43d",
   "metadata": {},
   "outputs": [],
   "source": []
  },
  {
   "cell_type": "code",
   "execution_count": null,
   "id": "2947c385-51ca-48e0-ac4c-7f23a29c0052",
   "metadata": {},
   "outputs": [],
   "source": []
  },
  {
   "cell_type": "code",
   "execution_count": null,
   "id": "f03f06d3-bd79-4929-8a42-a973551db2f4",
   "metadata": {},
   "outputs": [],
   "source": []
  }
 ],
 "metadata": {
  "kernelspec": {
   "display_name": "Python 3 (ipykernel)",
   "language": "python",
   "name": "python3"
  },
  "language_info": {
   "codemirror_mode": {
    "name": "ipython",
    "version": 3
   },
   "file_extension": ".py",
   "mimetype": "text/x-python",
   "name": "python",
   "nbconvert_exporter": "python",
   "pygments_lexer": "ipython3",
   "version": "3.12.4"
  }
 },
 "nbformat": 4,
 "nbformat_minor": 5
}
